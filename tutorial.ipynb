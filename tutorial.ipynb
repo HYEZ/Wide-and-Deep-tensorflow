{
 "cells": [
  {
   "cell_type": "markdown",
   "metadata": {},
   "source": [
    "# Wide & Deep Learning for Recommender Systems\n",
    "- Wide Component와 Deep Component의 장점을 합친 추천 모델\n",
    "- Wide model\n",
    "    - memorization(기억)\n",
    "    - ex) 이전에 먹었던 음식이 '햄버거(bugers)' 이면 불고기버거를 추천해주는 모델. 하지만 같은 패스트푸드인 피자를 추천하지는 못한다.\n",
    "- Deep model\n",
    "    - generalization\n",
    "    - query를 카테고리화 시켜서 그 범주 내에 있는 item을 추천함\n",
    "    - ex) 위의 예제에서 유저가 햄버거를 클릭, 검색 시 피자를 추천할 수 있음. but, over-generalization 되는 경우가 발생함\n",
    "    - over-generalization\n",
    "        - '따뜻한 아메리카노' 검색 시 '커피'라는 일반화 범주에서 '아이스 라떼'를 추천 할 수 있다는 것. \n",
    "        - 유저는 따뜻한 음료를 원하고 라떼를 싫어할 수 있지만 전혀 다른 결과를 예측할 수 있는 가능성이 있음.\n"
   ]
  },
  {
   "cell_type": "markdown",
   "metadata": {},
   "source": [
    "## References\n",
    "- [구글에서 발표한 논문](https://arxiv.org/pdf/1606.07792.pdf)\n",
    "- [텐서플로우 튜토리얼 (tensorflow v1)](https://tensorflowkorea.gitbooks.io/tensorflow-kr/content/g3doc/tutorials/wide_and_deep/)\n",
    "- [참고용 소스 (tensorflow v2)](https://towardsdatascience.com/how-to-build-a-wide-and-deep-model-using-keras-in-tensorflow-2-0-2f7a236b5a4b)\n",
    "- [참고 블로그](https://bcho.tistory.com/tag/wide%20and%20deep%20model)\n",
    "\n",
    "***\n"
   ]
  },
  {
   "cell_type": "markdown",
   "metadata": {},
   "source": [
    "## Wide & Deep 모델이란?\n",
    "- linear 모델의 장점과 neural network(신경망)의 장점을 합치는 모델이다.\n",
    "- 즉, 선형 모델의 저장법(memorization)과 신경망의 일반화(generalization)의 강점을 합친 모델이다.\n",
    "- 이 방법은 sparse 입력 feature의 regression 문제와 classification 문제에 유용하다.\n",
    "\n",
    "### 모델의 3단계 프로세스\n",
    "1. wide 부분에 대한 features 선택\n",
    "    - 사용하길 원하는 sparse base column 과 crossed column 들을 선택한다\n",
    "2. deep 부분에 대한 features 선택 \n",
    "    - continuous feature(연속된 열), categorical feature(분류 열)의 embedding dimension, 그리고 hidden layer 크기를 선택한다.\n",
    "3. 이들을 Wide & Deep 모델에 적용한다."
   ]
  },
  {
   "cell_type": "markdown",
   "metadata": {},
   "source": [
    "***\n",
    "\n",
    "# 튜토리얼"
   ]
  },
  {
   "cell_type": "markdown",
   "metadata": {},
   "source": [
    "## Setup"
   ]
  },
  {
   "cell_type": "markdown",
   "metadata": {},
   "source": [
    "## Base Feature Columns 정의\n",
    "사용할 base categorical feature column 과 continuous feature column 들을 정의하자. 이들 base column 들은 모델의 wide 부분과 deep 부분에 모두 사용될 building block 들이 된다."
   ]
  },
  {
   "cell_type": "code",
   "execution_count": 35,
   "metadata": {},
   "outputs": [],
   "source": [
    "import tensorflow as tf\n",
    "from tensorflow import feature_column as fc\n",
    "\n",
    "# Categorical base columns. (sparse vector)\n",
    "real = {\n",
    "    colname : fc.numeric_column(colname) \\\n",
    "          for colname in \\\n",
    "            ('dep_delay,taxiout,distance').split(',')\n",
    "}\n",
    "sparse = {\n",
    "      'origin' : fc.categorical_column_with_hash_bucket('origin', hash_bucket_size=1000),\n",
    "      'dest'   : fc.categorical_column_with_hash_bucket('dest', hash_bucket_size=1000)\n",
    "}"
   ]
  },
  {
   "cell_type": "markdown",
   "metadata": {},
   "source": [
    "## 모델 생성"
   ]
  },
  {
   "cell_type": "markdown",
   "metadata": {},
   "source": [
    "### 모델 input 정의"
   ]
  },
  {
   "cell_type": "markdown",
   "metadata": {},
   "source": [
    "inputs = {\n",
    "    colname : tf.keras.layers.Input(name=colname, shape=(), dtype='float32') \\\n",
    "          for colname in real.keys()\n",
    "}\n",
    "inputs.update({\n",
    "    colname : tf.keras.layers.Input(name=colname, shape=(), dtype='string') \\\n",
    "          for colname in sparse.keys()\n",
    "})"
   ]
  },
  {
   "cell_type": "code",
   "execution_count": 36,
   "metadata": {},
   "outputs": [],
   "source": [
    "### 임베딩 만들기"
   ]
  },
  {
   "cell_type": "code",
   "execution_count": 37,
   "metadata": {},
   "outputs": [],
   "source": [
    "embed = {\n",
    "       'embed_{}'.format(colname) : fc.embedding_column(col, 10) \\\n",
    "          for colname, col in sparse.items()\n",
    "}\n",
    "real.update(embed)\n",
    "# one-hot encode the sparse columns\n",
    "sparse = {\n",
    "    colname : fc.indicator_column(col) \\\n",
    "          for colname, col in sparse.items()\n",
    "}"
   ]
  },
  {
   "cell_type": "markdown",
   "metadata": {},
   "source": [
    "### 레이어 생성"
   ]
  },
  {
   "cell_type": "code",
   "execution_count": 38,
   "metadata": {},
   "outputs": [],
   "source": [
    "deep = tf.keras.layers.DenseFeatures(real.values())(inputs)\n",
    "deep = tf.keras.layers.Dense(64, activation='relu')(deep)\n",
    "deep = tf.keras.layers.Dense(16, activation='relu')(deep)\n",
    "output = tf.keras.layers.Dense(1, activation='sigmoid')(deep)\n",
    "model = tf.keras.Model(inputs, output)"
   ]
  },
  {
   "cell_type": "code",
   "execution_count": 39,
   "metadata": {},
   "outputs": [],
   "source": [
    "def wide_and_deep_classifier(inputs, linear_feature_columns, dnn_feature_columns, dnn_hidden_units):\n",
    "    deep = tf.keras.layers.DenseFeatures(dnn_feature_columns)(inputs)\n",
    "    for numnodes in dnn_hidden_units:\n",
    "        deep = tf.keras.layers.Dense(numnodes, activation='relu')(deep)        \n",
    "    wide = tf.keras.layers.DenseFeatures(linear_feature_columns)(inputs)\n",
    "    both = tf.keras.layers.concatenate([deep, wide])\n",
    "    output = tf.keras.layers.Dense(1, activation='sigmoid')(both)\n",
    "    model = tf.keras.Model(inputs, output)\n",
    "    model.compile(optimizer='adam',\n",
    "                  loss='binary_crossentropy',\n",
    "                  metrics=['accuracy'])\n",
    "    return model\n",
    "model = wide_and_deep_classifier(inputs, sparse.values(), real.values(), [64, 16])"
   ]
  },
  {
   "cell_type": "code",
   "execution_count": 41,
   "metadata": {},
   "outputs": [
    {
     "name": "stdout",
     "output_type": "stream",
     "text": [
      "Model: \"functional_11\"\n",
      "__________________________________________________________________________________________________\n",
      "Layer (type)                    Output Shape         Param #     Connected to                     \n",
      "==================================================================================================\n",
      "dep_delay (InputLayer)          [(None,)]            0                                            \n",
      "__________________________________________________________________________________________________\n",
      "dest (InputLayer)               [(None,)]            0                                            \n",
      "__________________________________________________________________________________________________\n",
      "distance (InputLayer)           [(None,)]            0                                            \n",
      "__________________________________________________________________________________________________\n",
      "embed_dest (InputLayer)         [(None,)]            0                                            \n",
      "__________________________________________________________________________________________________\n",
      "embed_origin (InputLayer)       [(None,)]            0                                            \n",
      "__________________________________________________________________________________________________\n",
      "origin (InputLayer)             [(None,)]            0                                            \n",
      "__________________________________________________________________________________________________\n",
      "taxiout (InputLayer)            [(None,)]            0                                            \n",
      "__________________________________________________________________________________________________\n",
      "dense_features_8 (DenseFeatures (None, 23)           20000       dep_delay[0][0]                  \n",
      "                                                                 dest[0][0]                       \n",
      "                                                                 distance[0][0]                   \n",
      "                                                                 embed_dest[0][0]                 \n",
      "                                                                 embed_origin[0][0]               \n",
      "                                                                 origin[0][0]                     \n",
      "                                                                 taxiout[0][0]                    \n",
      "__________________________________________________________________________________________________\n",
      "dense_15 (Dense)                (None, 64)           1536        dense_features_8[0][0]           \n",
      "__________________________________________________________________________________________________\n",
      "dense_16 (Dense)                (None, 16)           1040        dense_15[0][0]                   \n",
      "__________________________________________________________________________________________________\n",
      "dense_features_9 (DenseFeatures (None, 2000)         0           dep_delay[0][0]                  \n",
      "                                                                 dest[0][0]                       \n",
      "                                                                 distance[0][0]                   \n",
      "                                                                 embed_dest[0][0]                 \n",
      "                                                                 embed_origin[0][0]               \n",
      "                                                                 origin[0][0]                     \n",
      "                                                                 taxiout[0][0]                    \n",
      "__________________________________________________________________________________________________\n",
      "concatenate_2 (Concatenate)     (None, 2016)         0           dense_16[0][0]                   \n",
      "                                                                 dense_features_9[0][0]           \n",
      "__________________________________________________________________________________________________\n",
      "dense_17 (Dense)                (None, 1)            2017        concatenate_2[0][0]              \n",
      "==================================================================================================\n",
      "Total params: 24,593\n",
      "Trainable params: 24,593\n",
      "Non-trainable params: 0\n",
      "__________________________________________________________________________________________________\n"
     ]
    }
   ],
   "source": [
    "model.summary()"
   ]
  },
  {
   "cell_type": "code",
   "execution_count": null,
   "metadata": {},
   "outputs": [],
   "source": []
  },
  {
   "cell_type": "code",
   "execution_count": null,
   "metadata": {},
   "outputs": [],
   "source": []
  }
 ],
 "metadata": {
  "kernelspec": {
   "display_name": "Python 3",
   "language": "python",
   "name": "python3"
  },
  "language_info": {
   "codemirror_mode": {
    "name": "ipython",
    "version": 3
   },
   "file_extension": ".py",
   "mimetype": "text/x-python",
   "name": "python",
   "nbconvert_exporter": "python",
   "pygments_lexer": "ipython3",
   "version": "3.6.10"
  }
 },
 "nbformat": 4,
 "nbformat_minor": 4
}
